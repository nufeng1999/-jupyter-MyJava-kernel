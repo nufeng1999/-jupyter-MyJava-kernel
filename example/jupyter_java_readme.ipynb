{
 "cells": [
  {
   "cell_type": "markdown",
   "id": "7f9ff556-878f-4705-85f2-982d5a37f013",
   "metadata": {
    "tags": []
   },
   "source": [
    "### 特殊注释符号  \n",
    "  //%file：代码执行时生成的文件  \n",
    "  //%args: 代码运行时的参数\n",
    "  //%coptions:\n",
    "  //%joptions:\n",
    "  "
   ]
  },
  {
   "cell_type": "code",
   "execution_count": 1,
   "id": "1e4a9e52",
   "metadata": {},
   "outputs": [
    {
     "data": {
      "text/plain": [
       "[MyC Kernel] Info:HelloWorld\n"
      ]
     },
     "metadata": {
      "text/plain": {}
     },
     "output_type": "display_data"
    },
    {
     "name": "stdout",
     "output_type": "stream",
     "text": [
      "Generating binary file\n"
     ]
    },
    {
     "data": {
      "text/plain": [
       "[MyC Kernel] Info: javac  -d  /tmp  /tmp/HelloWorld.java\n"
      ]
     },
     "metadata": {
      "text/plain": {}
     },
     "output_type": "display_data"
    },
    {
     "name": "stdout",
     "output_type": "stream",
     "text": [
      "The process :HelloWorld\n"
     ]
    },
    {
     "data": {
      "text/plain": [
       "[MyC Kernel] Info: java  -cp  /tmp:/usr/share/java/groovy.jar:/usr/share/java/groovy.jar:/tmp  test.HelloWorld\n"
      ]
     },
     "metadata": {
      "text/plain": {}
     },
     "output_type": "display_data"
    },
    {
     "data": {
      "text/plain": [
       "Hello World 测试!\n"
      ]
     },
     "metadata": {
      "text/plain": {}
     },
     "output_type": "display_data"
    }
   ],
   "source": [
    "//%joptions:-cp /tmp:/usr/share/java/groovy.jar\n",
    "package test;\n",
    "public class HelloWorld { \n",
    "    public static void main(String args[]) { \n",
    "        System.out.println(\"Hello World 测试!\"); \n",
    "    } \n",
    "}"
   ]
  },
  {
   "cell_type": "code",
   "execution_count": null,
   "id": "67536849",
   "metadata": {},
   "outputs": [],
   "source": []
  }
 ],
 "metadata": {
  "interpreter": {
   "hash": "916dbcbb3f70747c44a77c7bcd40155683ae19c65e1c03b4aa3499c5328201f1"
  },
  "kernelspec": {
   "display_name": "MyJava",
   "language": "java",
   "name": "myjava"
  },
  "language_info": {
   "file_extension": ".java",
   "mimetype": "text/x-csrc",
   "name": "text/x-csrc"
  }
 },
 "nbformat": 4,
 "nbformat_minor": 5
}
