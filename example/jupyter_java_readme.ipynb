{
 "cells": [
  {
   "cell_type": "code",
   "execution_count": 1,
   "id": "1e4a9e52",
   "metadata": {
    "vscode": {
     "languageId": "json"
    }
   },
   "outputs": [
    {
     "name": "stdout",
     "output_type": "stream",
     "text": [
      "[MyJavaKernel145309] Info:111111/mnt/h/Jupyter/jupyter-MyJava-kernel/example/HelloWorld.java\n",
      "[MyJavaKernel145309] Info:HelloWorld\n",
      "[MyJavaKernel145309] Info:1.1.11.11/mnt/h/Jupyter/jupyter-MyJava-kernel/example/HelloWorld.java\n",
      "[MyJavaKernel145309] Info:HelloWorld\n",
      "[MyJavaKernel145309] Info:22222/mnt/h/Jupyter/jupyter-MyJava-kernel/example/HelloWorld.java\n",
      "[MyJavaKernel145309] Info:HelloWorld\n",
      "[MyJavaKernel145309] Info:file_name:/mnt/h/Jupyter/jupyter-MyJava-kernel/example/HelloWorld.java\n",
      "[MyJavaKernel145309] Info:Generating binary file\n",
      "[MyJavaKernel145309] Info: javac  -d  /mnt/h/Jupyter/jupyter-MyJava-kernel/example  /mnt/h/Jupyter/jupyter-MyJava-kernel/example/HelloWorld.java\n",
      "[MyJavaKernel145309] Info:javac -d /mnt/h/Jupyter/jupyter-MyJava-kernel/example /mnt/h/Jupyter/jupyter-MyJava-kernel/example/HelloWorld.java \n",
      "[MyJavaKernel145309] Info:The process end:24700\n",
      "[MyJavaKernel145309] Info:The process :HelloWorld\n",
      "The process :HelloWorld\n",
      "[MyJavaKernel145309] Info: java  -cp  /tmp:/usr/share/java/groovy.jar:/usr/share/java/groovy.jar:/mnt/h/Jupyter/jupyter-MyJava-kernel/example  test.HelloWorld\n",
      "[MyJavaKernel145309] Info:java -cp /tmp:/usr/share/java/groovy.jar:/usr/share/java/groovy.jar:/mnt/h/Jupyter/jupyter-MyJava-kernel/example test.HelloWorld \n"
     ]
    },
    {
     "data": {
      "text/plain": [
       "Hello World 测试!\n"
      ]
     },
     "metadata": {
      "text/plain": {}
     },
     "output_type": "display_data"
    },
    {
     "name": "stdout",
     "output_type": "stream",
     "text": [
      "[MyJavaKernel145309] Info:The process end:24728\n"
     ]
    }
   ],
   "source": [
    "//%joptions:-cp /tmp:/usr/share/java/groovy.jar\n",
    "package test;\n",
    "public class HelloWorld { \n",
    "    public static void main(String args[]) { \n",
    "        System.out.println(\"Hello World 测试!\"); \n",
    "    } \n",
    "}"
   ]
  },
  {
   "cell_type": "code",
   "execution_count": null,
   "id": "67536849",
   "metadata": {
    "vscode": {
     "languageId": "json"
    }
   },
   "outputs": [],
   "source": []
  }
 ],
 "metadata": {
  "interpreter": {
   "hash": "916dbcbb3f70747c44a77c7bcd40155683ae19c65e1c03b4aa3499c5328201f1"
  },
  "kernelspec": {
   "display_name": "MyJava",
   "language": "java",
   "name": "myjava"
  },
  "language_info": {
   "file_extension": ".java",
   "mimetype": "text/java",
   "name": "text/java"
  }
 },
 "nbformat": 4,
 "nbformat_minor": 5
}
